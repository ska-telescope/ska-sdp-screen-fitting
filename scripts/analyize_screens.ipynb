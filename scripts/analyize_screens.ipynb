{
 "cells": [
  {
   "cell_type": "code",
   "execution_count": 17,
   "id": "cc3cd66a",
   "metadata": {},
   "outputs": [],
   "source": [
    "import h5py\n",
    "from astropy.io import fits\n",
    "import matplotlib.pyplot as plt\n",
    "from astropy.wcs import WCS\n",
    "from astropy import wcs\n",
    "import lsmtool\n",
    "import numpy as np"
   ]
  },
  {
   "cell_type": "code",
   "execution_count": 18,
   "id": "731fb00e",
   "metadata": {},
   "outputs": [],
   "source": [
    "# STEP 1\n",
    "# Load input/outputs\n",
    "# SCREEN FITTING INPUTS:\n",
    "# Load solutions.h5 and skymodel\n",
    "f = h5py.File('solutions_fullsize.h5', 'r')\n",
    "\n",
    "# SCREEN FITTING OUTPUTS:\n",
    "# The screen fitting library produces as output a .fits image cube. \n",
    "# The outputs of the two different algorithms are loaded below as \n",
    "# \"kl_cube\" and \"voronoi_cube\"\n",
    "# the cube dimensions are = [\"time\", \"freqs\", \"antennas\", \"pol\", \"x_coord\", \"y_coord\"]\n",
    "kl_cube=fits.open('bigger_screen/kl_0.fits')[0]\n",
    "voronoi_cube=fits.open('bigger_screen/tessellated_0.fits')[0]"
   ]
  },
  {
   "cell_type": "code",
   "execution_count": 19,
   "id": "ece4304b",
   "metadata": {},
   "outputs": [
    {
     "name": "stdout",
     "output_type": "stream",
     "text": [
      "[28, 24, 28, 17, 17, 19, 22]\n",
      "[14, 24, 27, 29, 15, 19, 22]\n"
     ]
    }
   ],
   "source": [
    "# STEP 2\n",
    "# Convert the coordinates of the patches in the skymodel to \n",
    "# x,y coordinates in the screen\n",
    "# build image cube with reference points \n",
    "\n",
    "# load skymodel\n",
    "skymod = lsmtool.load(\"skymodel.txt\")\n",
    "source_dict = skymod.getPatchPositions()\n",
    "source_positions = []\n",
    "for source in list(f['sol000/phase000/dir']):\n",
    "    radecpos = source_dict[str(source, 'utf-8').strip(\"[]\")]\n",
    "    source_positions.append([radecpos[0].value, radecpos[1].value])\n",
    "source_positions = np.array(source_positions)\n",
    "\n",
    "# init wcs object with fits image\n",
    "filename = 'bigger_screen/kl_0.fits'\n",
    "hdu = fits.open(filename)\n",
    "w = wcs.WCS(hdu[0].header)\n",
    "ra_ind = w.axis_type_names.index(\"RA\")\n",
    "dec_ind = w.axis_type_names.index(\"DEC\")\n",
    "\n",
    "# Convert ra-dec to pixel coordinates\n",
    "RA = source_positions[:,0]\n",
    "DEC = source_positions[:,1]\n",
    "xy_coord = []\n",
    "coord_patch_x =[]\n",
    "coord_patch_y=[]\n",
    "for ra_vert, dec_vert in zip(RA, DEC):\n",
    "    ra_dec = np.array([[0.0, 0.0, 0.0, 0.0, 0.0, 0.0]])\n",
    "    ra_dec[0][ra_ind] = ra_vert\n",
    "    ra_dec[0][dec_ind] = dec_vert\n",
    "    xy_coord.append(\n",
    "        (w.wcs_world2pix(ra_dec, 0)[0][ra_ind], \n",
    "         w.wcs_world2pix(ra_dec, 0)[0][dec_ind])\n",
    "    )\n",
    "    coord_patch_x.append(int(np.round(w.wcs_world2pix(ra_dec, 0)[0][dec_ind])))\n",
    "    coord_patch_y.append(int(np.round(w.wcs_world2pix(ra_dec, 0)[0][ra_ind])))\n",
    "\n",
    "print(coord_patch_x)\n",
    "print(coord_patch_y)"
   ]
  },
  {
   "cell_type": "code",
   "execution_count": null,
   "id": "a56eb86a",
   "metadata": {},
   "outputs": [],
   "source": [
    "# STEP 3\n",
    "# Select only points inside the screen\n",
    "# If all patches have coordinates which are inside the screen boundaries, list all\n",
    "# Otherwise, exclude from patch_idx the patches which fall ouside the screen boundaries\n",
    "patch_idx = np.array([0,1,2,3,4,5,6])"
   ]
  },
  {
   "cell_type": "code",
   "execution_count": 20,
   "id": "408495f5",
   "metadata": {},
   "outputs": [],
   "source": [
    "# STEP 4\n",
    "# Read amplitude and phase from solution.h5, and subtract reference phase\n",
    "\n",
    "ampl = f['sol000/amplitude000/val'] # [1, 50, 62, 7, 2]\n",
    "phase = f['sol000/phase000/val'] # [3,50,62,7]\n",
    "\n",
    "ntime = 3\n",
    "nfreq = 50\n",
    "nantennas = 62\n",
    "nsources = 7\n",
    "\n",
    "phase_corrected = np.zeros((ntime, nfreq, nantennas, nsources))\n",
    "for i in range(ntime):\n",
    "    for k in range(nfreq):\n",
    "        for j in range(nsources):\n",
    "            phase_corrected[i,k,:,j] = phase[i,k,:,j] - phase[i,k,0,j]"
   ]
  },
  {
   "cell_type": "code",
   "execution_count": 21,
   "id": "18816988",
   "metadata": {},
   "outputs": [
    {
     "name": "stdout",
     "output_type": "stream",
     "text": [
      "46\n"
     ]
    }
   ],
   "source": [
    "# STEP 5\n",
    "# Build an image cube containing the input values (from the skymodel)\n",
    "# at the right xy coordinates, and zeroes elsewhere. \n",
    "# A mask is also created which indicates where in the screen the reference points should be placed\n",
    "\n",
    "# get the number of pixels in the image\n",
    "im_size = kl_cube.data.shape[4]\n",
    "npol = 4\n",
    "print(im_size)\n",
    "\n",
    "grid_kl=np.zeros((ntime, nfreq, nantennas, npol, im_size, im_size))\n",
    "grid_voronoi=np.zeros((ntime, nfreq, nantennas, npol, im_size, im_size))\n",
    "\n",
    "patch_mask = np.full((im_size, im_size), False)\n",
    "\n",
    "for t in range(ntime):\n",
    "    for i in range(patch_idx.size):\n",
    "        grid_kl[t, :, :, 0, coord_patch_x[patch_idx[i]], coord_patch_y[patch_idx[i]]] = ampl[0,:,:,patch_idx[i],0] * np.cos(phase_corrected[t,:,:, patch_idx[i]])\n",
    "        grid_kl[t, :, :, 2, coord_patch_x[patch_idx[i]], coord_patch_y[patch_idx[i]]] = ampl[0,:,:,patch_idx[i],1] * np.cos(phase_corrected[t,:,:, patch_idx[i]])\n",
    "        grid_kl[t, :, :, 1, coord_patch_x[patch_idx[i]], coord_patch_y[patch_idx[i]]] = ampl[0,:,:,patch_idx[i],0] * np.sin(phase_corrected[t,:,:, patch_idx[i]])\n",
    "        grid_kl[t, :, :, 3, coord_patch_x[patch_idx[i]], coord_patch_y[patch_idx[i]]] = ampl[0,:,:,patch_idx[i],1] * np.sin(phase_corrected[t,:,:, patch_idx[i]])\n",
    "\n",
    "        grid_voronoi[t, :, :, 0, coord_patch_x[patch_idx[i]], coord_patch_y[patch_idx[i]]] = np.cos(phase_corrected[t,:,:, patch_idx[i]])\n",
    "        grid_voronoi[t, :, :, 2, coord_patch_x[patch_idx[i]], coord_patch_y[patch_idx[i]]] = np.cos(phase_corrected[t,:,:, patch_idx[i]])\n",
    "        grid_voronoi[t, :, :, 1, coord_patch_x[patch_idx[i]], coord_patch_y[patch_idx[i]]] = np.sin(phase_corrected[t,:,:, patch_idx[i]])\n",
    "        grid_voronoi[t, :, :, 3, coord_patch_x[patch_idx[i]], coord_patch_y[patch_idx[i]]] = np.sin(phase_corrected[t,:,:, patch_idx[i]])\n",
    "        \n",
    "        patch_mask[coord_patch_x[i], coord_patch_y[i]] = True;\n"
   ]
  },
  {
   "cell_type": "code",
   "execution_count": null,
   "id": "4e080bb5",
   "metadata": {},
   "outputs": [
    {
     "data": {
      "text/plain": [
       "<Figure size 432x288 with 0 Axes>"
      ]
     },
     "metadata": {},
     "output_type": "display_data"
    }
   ],
   "source": [
    "# STEP 3\n",
    "# Make plots\n",
    "\n",
    "# Select the indexes to plot\n",
    "polarization_idx = 1; \n",
    "time = 0; # there are 3 time slots\n",
    "antenna = 3;\n",
    "freq_offset = 30\n",
    "\n",
    "n_subplots = 8\n",
    "\n",
    "kl_min = np.min(kl_cube.data[time,freq_offset:freq_offset+n_subplots,antenna,polarization_idx,:,:])\n",
    "kl_max = np.max(kl_cube.data[time,freq_offset:freq_offset+n_subplots,antenna,polarization_idx,:,:])\n",
    "vor_min = np.min(voronoi_cube.data[time,freq_offset:freq_offset+n_subplots,antenna,polarization_idx,:,:])\n",
    "vor_max = np.max(voronoi_cube.data[time,freq_offset:freq_offset+n_subplots,antenna,polarization_idx,:,:])\n",
    "grid_min = np.min(grid_kl[time,freq_offset:freq_offset+n_subplots,antenna,polarization_idx,:,:])\n",
    "grid_max = np.max(grid_kl[time,freq_offset:freq_offset+n_subplots,antenna,polarization_idx,:,:])\n",
    "colormap_min_val = np.min(np.array([kl_min, vor_min, grid_min]))\n",
    "colormap_max_val = np.max(np.array([kl_max,vor_max, grid_max]))\n",
    "\n",
    "\n",
    "plt.figure()\n",
    "fig, axarr = plt.subplots(3,n_subplots) \n",
    "fig.set_size_inches(60, 20)\n",
    "\n",
    "for i in range(n_subplots):\n",
    "    kl_screen = kl_cube.data[time,i+freq_offset,antenna,polarization_idx,:,:]\n",
    "    voronoi_screen = voronoi_cube.data[time,i+freq_offset,antenna,polarization_idx,:,:]\n",
    "    ref_screen_kl = grid_kl[time,i+freq_offset,antenna,polarization_idx,:,:]\n",
    "    ref_screen_voronoi = grid_voronoi[time,i+freq_offset,antenna,polarization_idx,:,:]\n",
    "    \n",
    "    kl_screen_with_ref = kl_screen* (~patch_mask) + ref_screen_kl * patch_mask\n",
    "    voronoi_screen_with_ref = voronoi_screen* (~patch_mask) + ref_screen_voronoi * patch_mask\n",
    "    \n",
    "    axarr[0,i].imshow(kl_screen_with_ref, vmin=colormap_min_val, vmax=colormap_max_val) # clim\n",
    "    axarr[1,i].imshow(voronoi_screen_with_ref, vmin=colormap_min_val, vmax=colormap_max_val)\n",
    "    axarr[2,i].imshow(ref_screen_kl, vmin=colormap_min_val, vmax=colormap_max_val)\n",
    " \n",
    " "
   ]
  },
  {
   "cell_type": "code",
   "execution_count": null,
   "id": "1f721258",
   "metadata": {},
   "outputs": [],
   "source": []
  },
  {
   "cell_type": "code",
   "execution_count": null,
   "id": "94b75782",
   "metadata": {},
   "outputs": [],
   "source": []
  }
 ],
 "metadata": {
  "kernelspec": {
   "display_name": "Python 3 (ipykernel)",
   "language": "python",
   "name": "python3"
  },
  "language_info": {
   "codemirror_mode": {
    "name": "ipython",
    "version": 3
   },
   "file_extension": ".py",
   "mimetype": "text/x-python",
   "name": "python",
   "nbconvert_exporter": "python",
   "pygments_lexer": "ipython3",
   "version": "3.8.1"
  }
 },
 "nbformat": 4,
 "nbformat_minor": 5
}
